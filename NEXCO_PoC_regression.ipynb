{
 "cells": [
  {
   "cell_type": "code",
   "execution_count": 51,
   "metadata": {},
   "outputs": [],
   "source": [
    "import pandas as pd\n",
    "import numpy as np\n",
    "import datetime as dt\n",
    "import lightgbm as lgb\n",
    "import pycaret\n",
    "from pycaret.regression import *\n",
    "import optuna\n",
    "import matplotlib.pyplot as plt\n",
    "import warnings\n",
    "from sklearn.model_selection import train_test_split\n",
    "from sklearn.metrics import f1_score\n",
    "from sklearn.metrics import accuracy_score\n",
    "from sklearn.metrics import precision_score\n",
    "from sklearn.metrics import recall_score\n",
    "from sklearn.metrics import confusion_matrix\n",
    "from sklearn import tree\n",
    "\n",
    "warnings.filterwarnings('ignore')\n",
    "optuna.logging.set_verbosity(optuna.logging.WARNING)"
   ]
  },
  {
   "cell_type": "code",
   "execution_count": 52,
   "metadata": {},
   "outputs": [],
   "source": [
    "df = pd.read_csv('train_merged.csv')\n",
    "ignore_features = ['datetime', 'is_congestion_tomorrow', 'date']\n",
    "categorical_features = ['day_of_week', 'tomorrow_holiday', 'yesterday_holiday']\n",
    "\n",
    "df['date'] = pd.to_datetime(df['date'])\n",
    "df_train = df[df['date'] < dt.datetime(2023, 1, 1)]\n",
    "df_test = df[df['date'] >= dt.datetime(2023, 1, 1)]"
   ]
  },
  {
   "cell_type": "code",
   "execution_count": 53,
   "metadata": {},
   "outputs": [
    {
     "data": {
      "text/html": [
       "<style type=\"text/css\">\n",
       "#T_5f08e_row11_col1 {\n",
       "  background-color: lightgreen;\n",
       "}\n",
       "</style>\n",
       "<table id=\"T_5f08e\">\n",
       "  <thead>\n",
       "    <tr>\n",
       "      <th class=\"blank level0\" >&nbsp;</th>\n",
       "      <th id=\"T_5f08e_level0_col0\" class=\"col_heading level0 col0\" >Description</th>\n",
       "      <th id=\"T_5f08e_level0_col1\" class=\"col_heading level0 col1\" >Value</th>\n",
       "    </tr>\n",
       "  </thead>\n",
       "  <tbody>\n",
       "    <tr>\n",
       "      <th id=\"T_5f08e_level0_row0\" class=\"row_heading level0 row0\" >0</th>\n",
       "      <td id=\"T_5f08e_row0_col0\" class=\"data row0 col0\" >Session id</td>\n",
       "      <td id=\"T_5f08e_row0_col1\" class=\"data row0 col1\" >123</td>\n",
       "    </tr>\n",
       "    <tr>\n",
       "      <th id=\"T_5f08e_level0_row1\" class=\"row_heading level0 row1\" >1</th>\n",
       "      <td id=\"T_5f08e_row1_col0\" class=\"data row1 col0\" >Target</td>\n",
       "      <td id=\"T_5f08e_row1_col1\" class=\"data row1 col1\" >speed_diff</td>\n",
       "    </tr>\n",
       "    <tr>\n",
       "      <th id=\"T_5f08e_level0_row2\" class=\"row_heading level0 row2\" >2</th>\n",
       "      <td id=\"T_5f08e_row2_col0\" class=\"data row2 col0\" >Target type</td>\n",
       "      <td id=\"T_5f08e_row2_col1\" class=\"data row2 col1\" >Regression</td>\n",
       "    </tr>\n",
       "    <tr>\n",
       "      <th id=\"T_5f08e_level0_row3\" class=\"row_heading level0 row3\" >3</th>\n",
       "      <td id=\"T_5f08e_row3_col0\" class=\"data row3 col0\" >Original data shape</td>\n",
       "      <td id=\"T_5f08e_row3_col1\" class=\"data row3 col1\" >(4344912, 39)</td>\n",
       "    </tr>\n",
       "    <tr>\n",
       "      <th id=\"T_5f08e_level0_row4\" class=\"row_heading level0 row4\" >4</th>\n",
       "      <td id=\"T_5f08e_row4_col0\" class=\"data row4 col0\" >Transformed data shape</td>\n",
       "      <td id=\"T_5f08e_row4_col1\" class=\"data row4 col1\" >(4344912, 39)</td>\n",
       "    </tr>\n",
       "    <tr>\n",
       "      <th id=\"T_5f08e_level0_row5\" class=\"row_heading level0 row5\" >5</th>\n",
       "      <td id=\"T_5f08e_row5_col0\" class=\"data row5 col0\" >Transformed train set shape</td>\n",
       "      <td id=\"T_5f08e_row5_col1\" class=\"data row5 col1\" >(3475929, 39)</td>\n",
       "    </tr>\n",
       "    <tr>\n",
       "      <th id=\"T_5f08e_level0_row6\" class=\"row_heading level0 row6\" >6</th>\n",
       "      <td id=\"T_5f08e_row6_col0\" class=\"data row6 col0\" >Transformed test set shape</td>\n",
       "      <td id=\"T_5f08e_row6_col1\" class=\"data row6 col1\" >(868983, 39)</td>\n",
       "    </tr>\n",
       "    <tr>\n",
       "      <th id=\"T_5f08e_level0_row7\" class=\"row_heading level0 row7\" >7</th>\n",
       "      <td id=\"T_5f08e_row7_col0\" class=\"data row7 col0\" >Ignore features</td>\n",
       "      <td id=\"T_5f08e_row7_col1\" class=\"data row7 col1\" >6</td>\n",
       "    </tr>\n",
       "    <tr>\n",
       "      <th id=\"T_5f08e_level0_row8\" class=\"row_heading level0 row8\" >8</th>\n",
       "      <td id=\"T_5f08e_row8_col0\" class=\"data row8 col0\" >Ordinal features</td>\n",
       "      <td id=\"T_5f08e_row8_col1\" class=\"data row8 col1\" >2</td>\n",
       "    </tr>\n",
       "    <tr>\n",
       "      <th id=\"T_5f08e_level0_row9\" class=\"row_heading level0 row9\" >9</th>\n",
       "      <td id=\"T_5f08e_row9_col0\" class=\"data row9 col0\" >Numeric features</td>\n",
       "      <td id=\"T_5f08e_row9_col1\" class=\"data row9 col1\" >29</td>\n",
       "    </tr>\n",
       "    <tr>\n",
       "      <th id=\"T_5f08e_level0_row10\" class=\"row_heading level0 row10\" >10</th>\n",
       "      <td id=\"T_5f08e_row10_col0\" class=\"data row10 col0\" >Categorical features</td>\n",
       "      <td id=\"T_5f08e_row10_col1\" class=\"data row10 col1\" >3</td>\n",
       "    </tr>\n",
       "    <tr>\n",
       "      <th id=\"T_5f08e_level0_row11\" class=\"row_heading level0 row11\" >11</th>\n",
       "      <td id=\"T_5f08e_row11_col0\" class=\"data row11 col0\" >Preprocess</td>\n",
       "      <td id=\"T_5f08e_row11_col1\" class=\"data row11 col1\" >True</td>\n",
       "    </tr>\n",
       "    <tr>\n",
       "      <th id=\"T_5f08e_level0_row12\" class=\"row_heading level0 row12\" >12</th>\n",
       "      <td id=\"T_5f08e_row12_col0\" class=\"data row12 col0\" >Imputation type</td>\n",
       "      <td id=\"T_5f08e_row12_col1\" class=\"data row12 col1\" >simple</td>\n",
       "    </tr>\n",
       "    <tr>\n",
       "      <th id=\"T_5f08e_level0_row13\" class=\"row_heading level0 row13\" >13</th>\n",
       "      <td id=\"T_5f08e_row13_col0\" class=\"data row13 col0\" >Numeric imputation</td>\n",
       "      <td id=\"T_5f08e_row13_col1\" class=\"data row13 col1\" >mean</td>\n",
       "    </tr>\n",
       "    <tr>\n",
       "      <th id=\"T_5f08e_level0_row14\" class=\"row_heading level0 row14\" >14</th>\n",
       "      <td id=\"T_5f08e_row14_col0\" class=\"data row14 col0\" >Categorical imputation</td>\n",
       "      <td id=\"T_5f08e_row14_col1\" class=\"data row14 col1\" >mode</td>\n",
       "    </tr>\n",
       "    <tr>\n",
       "      <th id=\"T_5f08e_level0_row15\" class=\"row_heading level0 row15\" >15</th>\n",
       "      <td id=\"T_5f08e_row15_col0\" class=\"data row15 col0\" >Maximum one-hot encoding</td>\n",
       "      <td id=\"T_5f08e_row15_col1\" class=\"data row15 col1\" >25</td>\n",
       "    </tr>\n",
       "    <tr>\n",
       "      <th id=\"T_5f08e_level0_row16\" class=\"row_heading level0 row16\" >16</th>\n",
       "      <td id=\"T_5f08e_row16_col0\" class=\"data row16 col0\" >Encoding method</td>\n",
       "      <td id=\"T_5f08e_row16_col1\" class=\"data row16 col1\" >None</td>\n",
       "    </tr>\n",
       "    <tr>\n",
       "      <th id=\"T_5f08e_level0_row17\" class=\"row_heading level0 row17\" >17</th>\n",
       "      <td id=\"T_5f08e_row17_col0\" class=\"data row17 col0\" >Fold Generator</td>\n",
       "      <td id=\"T_5f08e_row17_col1\" class=\"data row17 col1\" >TimeSeriesSplit</td>\n",
       "    </tr>\n",
       "    <tr>\n",
       "      <th id=\"T_5f08e_level0_row18\" class=\"row_heading level0 row18\" >18</th>\n",
       "      <td id=\"T_5f08e_row18_col0\" class=\"data row18 col0\" >Fold Number</td>\n",
       "      <td id=\"T_5f08e_row18_col1\" class=\"data row18 col1\" >4</td>\n",
       "    </tr>\n",
       "    <tr>\n",
       "      <th id=\"T_5f08e_level0_row19\" class=\"row_heading level0 row19\" >19</th>\n",
       "      <td id=\"T_5f08e_row19_col0\" class=\"data row19 col0\" >CPU Jobs</td>\n",
       "      <td id=\"T_5f08e_row19_col1\" class=\"data row19 col1\" >-1</td>\n",
       "    </tr>\n",
       "    <tr>\n",
       "      <th id=\"T_5f08e_level0_row20\" class=\"row_heading level0 row20\" >20</th>\n",
       "      <td id=\"T_5f08e_row20_col0\" class=\"data row20 col0\" >Use GPU</td>\n",
       "      <td id=\"T_5f08e_row20_col1\" class=\"data row20 col1\" >False</td>\n",
       "    </tr>\n",
       "    <tr>\n",
       "      <th id=\"T_5f08e_level0_row21\" class=\"row_heading level0 row21\" >21</th>\n",
       "      <td id=\"T_5f08e_row21_col0\" class=\"data row21 col0\" >Log Experiment</td>\n",
       "      <td id=\"T_5f08e_row21_col1\" class=\"data row21 col1\" >False</td>\n",
       "    </tr>\n",
       "    <tr>\n",
       "      <th id=\"T_5f08e_level0_row22\" class=\"row_heading level0 row22\" >22</th>\n",
       "      <td id=\"T_5f08e_row22_col0\" class=\"data row22 col0\" >Experiment Name</td>\n",
       "      <td id=\"T_5f08e_row22_col1\" class=\"data row22 col1\" >reg-default-name</td>\n",
       "    </tr>\n",
       "    <tr>\n",
       "      <th id=\"T_5f08e_level0_row23\" class=\"row_heading level0 row23\" >23</th>\n",
       "      <td id=\"T_5f08e_row23_col0\" class=\"data row23 col0\" >USI</td>\n",
       "      <td id=\"T_5f08e_row23_col1\" class=\"data row23 col1\" >581d</td>\n",
       "    </tr>\n",
       "  </tbody>\n",
       "</table>\n"
      ],
      "text/plain": [
       "<pandas.io.formats.style.Styler at 0x2d9a31f10>"
      ]
     },
     "metadata": {},
     "output_type": "display_data"
    }
   ],
   "source": [
    "exp = setup(df_train, target='speed_diff', fold_strategy='timeseries', train_size=0.8, data_split_shuffle=False, fold_shuffle=False, use_gpu=False, ignore_features=ignore_features, categorical_features=categorical_features, fold=4, session_id=123)"
   ]
  },
  {
   "cell_type": "code",
   "execution_count": 54,
   "metadata": {},
   "outputs": [
    {
     "data": {
      "text/html": [],
      "text/plain": [
       "<IPython.core.display.HTML object>"
      ]
     },
     "metadata": {},
     "output_type": "display_data"
    },
    {
     "data": {
      "text/html": [
       "<style type=\"text/css\">\n",
       "#T_b54a0_row4_col0, #T_b54a0_row4_col1, #T_b54a0_row4_col2, #T_b54a0_row4_col3, #T_b54a0_row4_col4, #T_b54a0_row4_col5 {\n",
       "  background: yellow;\n",
       "}\n",
       "</style>\n",
       "<table id=\"T_b54a0\">\n",
       "  <thead>\n",
       "    <tr>\n",
       "      <th class=\"blank level0\" >&nbsp;</th>\n",
       "      <th id=\"T_b54a0_level0_col0\" class=\"col_heading level0 col0\" >MAE</th>\n",
       "      <th id=\"T_b54a0_level0_col1\" class=\"col_heading level0 col1\" >MSE</th>\n",
       "      <th id=\"T_b54a0_level0_col2\" class=\"col_heading level0 col2\" >RMSE</th>\n",
       "      <th id=\"T_b54a0_level0_col3\" class=\"col_heading level0 col3\" >R2</th>\n",
       "      <th id=\"T_b54a0_level0_col4\" class=\"col_heading level0 col4\" >RMSLE</th>\n",
       "      <th id=\"T_b54a0_level0_col5\" class=\"col_heading level0 col5\" >MAPE</th>\n",
       "    </tr>\n",
       "    <tr>\n",
       "      <th class=\"index_name level0\" >Fold</th>\n",
       "      <th class=\"blank col0\" >&nbsp;</th>\n",
       "      <th class=\"blank col1\" >&nbsp;</th>\n",
       "      <th class=\"blank col2\" >&nbsp;</th>\n",
       "      <th class=\"blank col3\" >&nbsp;</th>\n",
       "      <th class=\"blank col4\" >&nbsp;</th>\n",
       "      <th class=\"blank col5\" >&nbsp;</th>\n",
       "    </tr>\n",
       "  </thead>\n",
       "  <tbody>\n",
       "    <tr>\n",
       "      <th id=\"T_b54a0_level0_row0\" class=\"row_heading level0 row0\" >0</th>\n",
       "      <td id=\"T_b54a0_row0_col0\" class=\"data row0 col0\" >1.9383</td>\n",
       "      <td id=\"T_b54a0_row0_col1\" class=\"data row0 col1\" >19.7872</td>\n",
       "      <td id=\"T_b54a0_row0_col2\" class=\"data row0 col2\" >4.4483</td>\n",
       "      <td id=\"T_b54a0_row0_col3\" class=\"data row0 col3\" >0.5444</td>\n",
       "      <td id=\"T_b54a0_row0_col4\" class=\"data row0 col4\" >0.5904</td>\n",
       "      <td id=\"T_b54a0_row0_col5\" class=\"data row0 col5\" >4.9017</td>\n",
       "    </tr>\n",
       "    <tr>\n",
       "      <th id=\"T_b54a0_level0_row1\" class=\"row_heading level0 row1\" >1</th>\n",
       "      <td id=\"T_b54a0_row1_col0\" class=\"data row1 col0\" >1.8833</td>\n",
       "      <td id=\"T_b54a0_row1_col1\" class=\"data row1 col1\" >18.9299</td>\n",
       "      <td id=\"T_b54a0_row1_col2\" class=\"data row1 col2\" >4.3509</td>\n",
       "      <td id=\"T_b54a0_row1_col3\" class=\"data row1 col3\" >0.6096</td>\n",
       "      <td id=\"T_b54a0_row1_col4\" class=\"data row1 col4\" >0.5738</td>\n",
       "      <td id=\"T_b54a0_row1_col5\" class=\"data row1 col5\" >5.7984</td>\n",
       "    </tr>\n",
       "    <tr>\n",
       "      <th id=\"T_b54a0_level0_row2\" class=\"row_heading level0 row2\" >2</th>\n",
       "      <td id=\"T_b54a0_row2_col0\" class=\"data row2 col0\" >1.6335</td>\n",
       "      <td id=\"T_b54a0_row2_col1\" class=\"data row2 col1\" >15.4790</td>\n",
       "      <td id=\"T_b54a0_row2_col2\" class=\"data row2 col2\" >3.9343</td>\n",
       "      <td id=\"T_b54a0_row2_col3\" class=\"data row2 col3\" >0.6395</td>\n",
       "      <td id=\"T_b54a0_row2_col4\" class=\"data row2 col4\" >0.5307</td>\n",
       "      <td id=\"T_b54a0_row2_col5\" class=\"data row2 col5\" >3.4999</td>\n",
       "    </tr>\n",
       "    <tr>\n",
       "      <th id=\"T_b54a0_level0_row3\" class=\"row_heading level0 row3\" >3</th>\n",
       "      <td id=\"T_b54a0_row3_col0\" class=\"data row3 col0\" >1.5129</td>\n",
       "      <td id=\"T_b54a0_row3_col1\" class=\"data row3 col1\" >8.9570</td>\n",
       "      <td id=\"T_b54a0_row3_col2\" class=\"data row3 col2\" >2.9928</td>\n",
       "      <td id=\"T_b54a0_row3_col3\" class=\"data row3 col3\" >0.6695</td>\n",
       "      <td id=\"T_b54a0_row3_col4\" class=\"data row3 col4\" >0.5188</td>\n",
       "      <td id=\"T_b54a0_row3_col5\" class=\"data row3 col5\" >3.7193</td>\n",
       "    </tr>\n",
       "    <tr>\n",
       "      <th id=\"T_b54a0_level0_row4\" class=\"row_heading level0 row4\" >Mean</th>\n",
       "      <td id=\"T_b54a0_row4_col0\" class=\"data row4 col0\" >1.7420</td>\n",
       "      <td id=\"T_b54a0_row4_col1\" class=\"data row4 col1\" >15.7883</td>\n",
       "      <td id=\"T_b54a0_row4_col2\" class=\"data row4 col2\" >3.9316</td>\n",
       "      <td id=\"T_b54a0_row4_col3\" class=\"data row4 col3\" >0.6158</td>\n",
       "      <td id=\"T_b54a0_row4_col4\" class=\"data row4 col4\" >0.5534</td>\n",
       "      <td id=\"T_b54a0_row4_col5\" class=\"data row4 col5\" >4.4798</td>\n",
       "    </tr>\n",
       "    <tr>\n",
       "      <th id=\"T_b54a0_level0_row5\" class=\"row_heading level0 row5\" >Std</th>\n",
       "      <td id=\"T_b54a0_row5_col0\" class=\"data row5 col0\" >0.1752</td>\n",
       "      <td id=\"T_b54a0_row5_col1\" class=\"data row5 col1\" >4.2610</td>\n",
       "      <td id=\"T_b54a0_row5_col2\" class=\"data row5 col2\" >0.5753</td>\n",
       "      <td id=\"T_b54a0_row5_col3\" class=\"data row5 col3\" >0.0463</td>\n",
       "      <td id=\"T_b54a0_row5_col4\" class=\"data row5 col4\" >0.0296</td>\n",
       "      <td id=\"T_b54a0_row5_col5\" class=\"data row5 col5\" >0.9294</td>\n",
       "    </tr>\n",
       "  </tbody>\n",
       "</table>\n"
      ],
      "text/plain": [
       "<pandas.io.formats.style.Styler at 0x2d95db7f0>"
      ]
     },
     "metadata": {},
     "output_type": "display_data"
    },
    {
     "data": {
      "text/html": [],
      "text/plain": [
       "<IPython.core.display.HTML object>"
      ]
     },
     "metadata": {},
     "output_type": "display_data"
    }
   ],
   "source": [
    "catboost = create_model('catboost')"
   ]
  },
  {
   "cell_type": "code",
   "execution_count": 55,
   "metadata": {},
   "outputs": [
    {
     "data": {
      "text/html": [
       "<style type=\"text/css\">\n",
       "</style>\n",
       "<table id=\"T_31230\">\n",
       "  <thead>\n",
       "    <tr>\n",
       "      <th class=\"blank level0\" >&nbsp;</th>\n",
       "      <th id=\"T_31230_level0_col0\" class=\"col_heading level0 col0\" >Model</th>\n",
       "      <th id=\"T_31230_level0_col1\" class=\"col_heading level0 col1\" >MAE</th>\n",
       "      <th id=\"T_31230_level0_col2\" class=\"col_heading level0 col2\" >MSE</th>\n",
       "      <th id=\"T_31230_level0_col3\" class=\"col_heading level0 col3\" >RMSE</th>\n",
       "      <th id=\"T_31230_level0_col4\" class=\"col_heading level0 col4\" >R2</th>\n",
       "      <th id=\"T_31230_level0_col5\" class=\"col_heading level0 col5\" >RMSLE</th>\n",
       "      <th id=\"T_31230_level0_col6\" class=\"col_heading level0 col6\" >MAPE</th>\n",
       "    </tr>\n",
       "  </thead>\n",
       "  <tbody>\n",
       "    <tr>\n",
       "      <th id=\"T_31230_level0_row0\" class=\"row_heading level0 row0\" >0</th>\n",
       "      <td id=\"T_31230_row0_col0\" class=\"data row0 col0\" >CatBoost Regressor</td>\n",
       "      <td id=\"T_31230_row0_col1\" class=\"data row0 col1\" >1.9076</td>\n",
       "      <td id=\"T_31230_row0_col2\" class=\"data row0 col2\" >19.0261</td>\n",
       "      <td id=\"T_31230_row0_col3\" class=\"data row0 col3\" >4.3619</td>\n",
       "      <td id=\"T_31230_row0_col4\" class=\"data row0 col4\" >0.6275</td>\n",
       "      <td id=\"T_31230_row0_col5\" class=\"data row0 col5\" >0.5702</td>\n",
       "      <td id=\"T_31230_row0_col6\" class=\"data row0 col6\" >4.0429</td>\n",
       "    </tr>\n",
       "  </tbody>\n",
       "</table>\n"
      ],
      "text/plain": [
       "<pandas.io.formats.style.Styler at 0x36b01a6d0>"
      ]
     },
     "metadata": {},
     "output_type": "display_data"
    }
   ],
   "source": [
    "predict = predict_model(catboost, data=df_test).prediction_label"
   ]
  },
  {
   "cell_type": "code",
   "execution_count": 56,
   "metadata": {},
   "outputs": [],
   "source": [
    "predict = predict.to_frame('speed_diff')\n",
    "answer = df_test[['speed', 'speed_diff']]\n",
    "\n",
    "predict['predict_speed'] = df_test['speed'] + predict['speed_diff']\n",
    "answer['answer_speed'] = df_test['speed'] + answer['speed_diff']\n",
    "\n",
    "predict['is_congestion'] = predict.eval('predict_speed < 40').astype(int)\n",
    "answer['is_congestion'] = answer.eval('answer_speed < 40').astype(int)"
   ]
  },
  {
   "cell_type": "code",
   "execution_count": 57,
   "metadata": {},
   "outputs": [
    {
     "name": "stdout",
     "output_type": "stream",
     "text": [
      "TN  FP\n",
      "FN  TP\n",
      "[[1442680      65]\n",
      " [   5152     407]]\n",
      "Accuracy: 0.9963978556988036\n",
      "Recall: 0.07321460694369492\n",
      "Precisoin: 0.8622881355932204\n",
      "F1 score : 0.13496932515337423\n"
     ]
    }
   ],
   "source": [
    "accuracy = accuracy_score(answer['is_congestion'], predict['is_congestion'])\n",
    "recall = recall_score(answer['is_congestion'], predict['is_congestion'])\n",
    "precision = precision_score(answer['is_congestion'], predict['is_congestion'])\n",
    "f1 = f1_score(answer['is_congestion'], predict['is_congestion'])\n",
    "\n",
    "print('TN  FP\\nFN  TP')\n",
    "print(confusion_matrix(answer['is_congestion'], predict['is_congestion']))\n",
    "print(f'Accuracy: {accuracy}')\n",
    "print(f'Recall: {recall}')\n",
    "print(f'Precisoin: {precision}')\n",
    "print(f'F1 score : {f1}')"
   ]
  },
  {
   "cell_type": "code",
   "execution_count": 58,
   "metadata": {},
   "outputs": [
    {
     "data": {
      "application/vnd.jupyter.widget-view+json": {
       "model_id": "90b75dce28a4434ea68885ced8c75287",
       "version_major": 2,
       "version_minor": 0
      },
      "text/plain": [
       "interactive(children=(ToggleButtons(description='Plot Type:', icons=('',), options=(('Pipeline Plot', 'pipelin…"
      ]
     },
     "metadata": {},
     "output_type": "display_data"
    }
   ],
   "source": [
    "evaluate_model(catboost)"
   ]
  },
  {
   "cell_type": "code",
   "execution_count": null,
   "metadata": {},
   "outputs": [],
   "source": []
  }
 ],
 "metadata": {
  "kernelspec": {
   "display_name": "nexco",
   "language": "python",
   "name": "python3"
  },
  "language_info": {
   "codemirror_mode": {
    "name": "ipython",
    "version": 3
   },
   "file_extension": ".py",
   "mimetype": "text/x-python",
   "name": "python",
   "nbconvert_exporter": "python",
   "pygments_lexer": "ipython3",
   "version": "3.8.18"
  }
 },
 "nbformat": 4,
 "nbformat_minor": 2
}
