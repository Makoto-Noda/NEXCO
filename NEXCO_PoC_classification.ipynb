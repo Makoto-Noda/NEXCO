{
 "cells": [
  {
   "cell_type": "code",
   "execution_count": 62,
   "metadata": {},
   "outputs": [],
   "source": [
    "import pandas as pd\n",
    "import numpy as np\n",
    "import datetime as dt\n",
    "import lightgbm as lgb\n",
    "import pycaret\n",
    "from pycaret.classification import *\n",
    "import optuna\n",
    "import matplotlib.pyplot as plt\n",
    "import warnings\n",
    "from sklearn.model_selection import train_test_split\n",
    "from sklearn.metrics import f1_score\n",
    "from sklearn.metrics import accuracy_score\n",
    "from sklearn.metrics import precision_score\n",
    "from sklearn.metrics import recall_score\n",
    "from sklearn.metrics import confusion_matrix\n",
    "from sklearn import tree\n",
    "\n",
    "warnings.filterwarnings('ignore')\n",
    "optuna.logging.set_verbosity(optuna.logging.WARNING)"
   ]
  },
  {
   "cell_type": "code",
   "execution_count": 55,
   "metadata": {},
   "outputs": [],
   "source": [
    "df = pd.read_csv('train_merged.csv')\n",
    "ignore_features = ['datetime', 'date']\n",
    "categorical_features = ['day_of_week', 'is_congestion', 'tomorrow_holiday', 'yesterday_holiday', 'start_code', 'end_code', 'section']\n",
    "\n",
    "df['date'] = pd.to_datetime(df['date'])\n",
    "df_train = df[df['date'] < dt.datetime(2023, 1, 1)]\n",
    "df_test = df[df['date'] >= dt.datetime(2023, 1, 1)]"
   ]
  },
  {
   "cell_type": "code",
   "execution_count": 56,
   "metadata": {},
   "outputs": [
    {
     "name": "stdout",
     "output_type": "stream",
     "text": [
      "Warning: No categorical columns found. Calling 'transform' will only return input data.\n"
     ]
    },
    {
     "data": {
      "text/html": [
       "<style type=\"text/css\">\n",
       "#T_e9cad_row11_col1 {\n",
       "  background-color: lightgreen;\n",
       "}\n",
       "</style>\n",
       "<table id=\"T_e9cad\">\n",
       "  <thead>\n",
       "    <tr>\n",
       "      <th class=\"blank level0\" >&nbsp;</th>\n",
       "      <th id=\"T_e9cad_level0_col0\" class=\"col_heading level0 col0\" >Description</th>\n",
       "      <th id=\"T_e9cad_level0_col1\" class=\"col_heading level0 col1\" >Value</th>\n",
       "    </tr>\n",
       "  </thead>\n",
       "  <tbody>\n",
       "    <tr>\n",
       "      <th id=\"T_e9cad_level0_row0\" class=\"row_heading level0 row0\" >0</th>\n",
       "      <td id=\"T_e9cad_row0_col0\" class=\"data row0 col0\" >Session id</td>\n",
       "      <td id=\"T_e9cad_row0_col1\" class=\"data row0 col1\" >123</td>\n",
       "    </tr>\n",
       "    <tr>\n",
       "      <th id=\"T_e9cad_level0_row1\" class=\"row_heading level0 row1\" >1</th>\n",
       "      <td id=\"T_e9cad_row1_col0\" class=\"data row1 col0\" >Target</td>\n",
       "      <td id=\"T_e9cad_row1_col1\" class=\"data row1 col1\" >is_congestion_tomorrow</td>\n",
       "    </tr>\n",
       "    <tr>\n",
       "      <th id=\"T_e9cad_level0_row2\" class=\"row_heading level0 row2\" >2</th>\n",
       "      <td id=\"T_e9cad_row2_col0\" class=\"data row2 col0\" >Target type</td>\n",
       "      <td id=\"T_e9cad_row2_col1\" class=\"data row2 col1\" >Binary</td>\n",
       "    </tr>\n",
       "    <tr>\n",
       "      <th id=\"T_e9cad_level0_row3\" class=\"row_heading level0 row3\" >3</th>\n",
       "      <td id=\"T_e9cad_row3_col0\" class=\"data row3 col0\" >Original data shape</td>\n",
       "      <td id=\"T_e9cad_row3_col1\" class=\"data row3 col1\" >(4344912, 42)</td>\n",
       "    </tr>\n",
       "    <tr>\n",
       "      <th id=\"T_e9cad_level0_row4\" class=\"row_heading level0 row4\" >4</th>\n",
       "      <td id=\"T_e9cad_row4_col0\" class=\"data row4 col0\" >Transformed data shape</td>\n",
       "      <td id=\"T_e9cad_row4_col1\" class=\"data row4 col1\" >(4344912, 46)</td>\n",
       "    </tr>\n",
       "    <tr>\n",
       "      <th id=\"T_e9cad_level0_row5\" class=\"row_heading level0 row5\" >5</th>\n",
       "      <td id=\"T_e9cad_row5_col0\" class=\"data row5 col0\" >Transformed train set shape</td>\n",
       "      <td id=\"T_e9cad_row5_col1\" class=\"data row5 col1\" >(3475929, 46)</td>\n",
       "    </tr>\n",
       "    <tr>\n",
       "      <th id=\"T_e9cad_level0_row6\" class=\"row_heading level0 row6\" >6</th>\n",
       "      <td id=\"T_e9cad_row6_col0\" class=\"data row6 col0\" >Transformed test set shape</td>\n",
       "      <td id=\"T_e9cad_row6_col1\" class=\"data row6 col1\" >(868983, 46)</td>\n",
       "    </tr>\n",
       "    <tr>\n",
       "      <th id=\"T_e9cad_level0_row7\" class=\"row_heading level0 row7\" >7</th>\n",
       "      <td id=\"T_e9cad_row7_col0\" class=\"data row7 col0\" >Ignore features</td>\n",
       "      <td id=\"T_e9cad_row7_col1\" class=\"data row7 col1\" >2</td>\n",
       "    </tr>\n",
       "    <tr>\n",
       "      <th id=\"T_e9cad_level0_row8\" class=\"row_heading level0 row8\" >8</th>\n",
       "      <td id=\"T_e9cad_row8_col0\" class=\"data row8 col0\" >Ordinal features</td>\n",
       "      <td id=\"T_e9cad_row8_col1\" class=\"data row8 col1\" >3</td>\n",
       "    </tr>\n",
       "    <tr>\n",
       "      <th id=\"T_e9cad_level0_row9\" class=\"row_heading level0 row9\" >9</th>\n",
       "      <td id=\"T_e9cad_row9_col0\" class=\"data row9 col0\" >Numeric features</td>\n",
       "      <td id=\"T_e9cad_row9_col1\" class=\"data row9 col1\" >32</td>\n",
       "    </tr>\n",
       "    <tr>\n",
       "      <th id=\"T_e9cad_level0_row10\" class=\"row_heading level0 row10\" >10</th>\n",
       "      <td id=\"T_e9cad_row10_col0\" class=\"data row10 col0\" >Categorical features</td>\n",
       "      <td id=\"T_e9cad_row10_col1\" class=\"data row10 col1\" >7</td>\n",
       "    </tr>\n",
       "    <tr>\n",
       "      <th id=\"T_e9cad_level0_row11\" class=\"row_heading level0 row11\" >11</th>\n",
       "      <td id=\"T_e9cad_row11_col0\" class=\"data row11 col0\" >Preprocess</td>\n",
       "      <td id=\"T_e9cad_row11_col1\" class=\"data row11 col1\" >True</td>\n",
       "    </tr>\n",
       "    <tr>\n",
       "      <th id=\"T_e9cad_level0_row12\" class=\"row_heading level0 row12\" >12</th>\n",
       "      <td id=\"T_e9cad_row12_col0\" class=\"data row12 col0\" >Imputation type</td>\n",
       "      <td id=\"T_e9cad_row12_col1\" class=\"data row12 col1\" >simple</td>\n",
       "    </tr>\n",
       "    <tr>\n",
       "      <th id=\"T_e9cad_level0_row13\" class=\"row_heading level0 row13\" >13</th>\n",
       "      <td id=\"T_e9cad_row13_col0\" class=\"data row13 col0\" >Numeric imputation</td>\n",
       "      <td id=\"T_e9cad_row13_col1\" class=\"data row13 col1\" >mean</td>\n",
       "    </tr>\n",
       "    <tr>\n",
       "      <th id=\"T_e9cad_level0_row14\" class=\"row_heading level0 row14\" >14</th>\n",
       "      <td id=\"T_e9cad_row14_col0\" class=\"data row14 col0\" >Categorical imputation</td>\n",
       "      <td id=\"T_e9cad_row14_col1\" class=\"data row14 col1\" >mode</td>\n",
       "    </tr>\n",
       "    <tr>\n",
       "      <th id=\"T_e9cad_level0_row15\" class=\"row_heading level0 row15\" >15</th>\n",
       "      <td id=\"T_e9cad_row15_col0\" class=\"data row15 col0\" >Maximum one-hot encoding</td>\n",
       "      <td id=\"T_e9cad_row15_col1\" class=\"data row15 col1\" >25</td>\n",
       "    </tr>\n",
       "    <tr>\n",
       "      <th id=\"T_e9cad_level0_row16\" class=\"row_heading level0 row16\" >16</th>\n",
       "      <td id=\"T_e9cad_row16_col0\" class=\"data row16 col0\" >Encoding method</td>\n",
       "      <td id=\"T_e9cad_row16_col1\" class=\"data row16 col1\" >None</td>\n",
       "    </tr>\n",
       "    <tr>\n",
       "      <th id=\"T_e9cad_level0_row17\" class=\"row_heading level0 row17\" >17</th>\n",
       "      <td id=\"T_e9cad_row17_col0\" class=\"data row17 col0\" >Fold Generator</td>\n",
       "      <td id=\"T_e9cad_row17_col1\" class=\"data row17 col1\" >TimeSeriesSplit</td>\n",
       "    </tr>\n",
       "    <tr>\n",
       "      <th id=\"T_e9cad_level0_row18\" class=\"row_heading level0 row18\" >18</th>\n",
       "      <td id=\"T_e9cad_row18_col0\" class=\"data row18 col0\" >Fold Number</td>\n",
       "      <td id=\"T_e9cad_row18_col1\" class=\"data row18 col1\" >4</td>\n",
       "    </tr>\n",
       "    <tr>\n",
       "      <th id=\"T_e9cad_level0_row19\" class=\"row_heading level0 row19\" >19</th>\n",
       "      <td id=\"T_e9cad_row19_col0\" class=\"data row19 col0\" >CPU Jobs</td>\n",
       "      <td id=\"T_e9cad_row19_col1\" class=\"data row19 col1\" >-1</td>\n",
       "    </tr>\n",
       "    <tr>\n",
       "      <th id=\"T_e9cad_level0_row20\" class=\"row_heading level0 row20\" >20</th>\n",
       "      <td id=\"T_e9cad_row20_col0\" class=\"data row20 col0\" >Use GPU</td>\n",
       "      <td id=\"T_e9cad_row20_col1\" class=\"data row20 col1\" >False</td>\n",
       "    </tr>\n",
       "    <tr>\n",
       "      <th id=\"T_e9cad_level0_row21\" class=\"row_heading level0 row21\" >21</th>\n",
       "      <td id=\"T_e9cad_row21_col0\" class=\"data row21 col0\" >Log Experiment</td>\n",
       "      <td id=\"T_e9cad_row21_col1\" class=\"data row21 col1\" >False</td>\n",
       "    </tr>\n",
       "    <tr>\n",
       "      <th id=\"T_e9cad_level0_row22\" class=\"row_heading level0 row22\" >22</th>\n",
       "      <td id=\"T_e9cad_row22_col0\" class=\"data row22 col0\" >Experiment Name</td>\n",
       "      <td id=\"T_e9cad_row22_col1\" class=\"data row22 col1\" >clf-default-name</td>\n",
       "    </tr>\n",
       "    <tr>\n",
       "      <th id=\"T_e9cad_level0_row23\" class=\"row_heading level0 row23\" >23</th>\n",
       "      <td id=\"T_e9cad_row23_col0\" class=\"data row23 col0\" >USI</td>\n",
       "      <td id=\"T_e9cad_row23_col1\" class=\"data row23 col1\" >0fa8</td>\n",
       "    </tr>\n",
       "  </tbody>\n",
       "</table>\n"
      ],
      "text/plain": [
       "<pandas.io.formats.style.Styler at 0x50f0cbc10>"
      ]
     },
     "metadata": {},
     "output_type": "display_data"
    }
   ],
   "source": [
    "exp = setup(df_train, target='is_congestion_tomorrow', fold_strategy='timeseries', data_split_stratify=False, train_size=0.8, data_split_shuffle=False, fold_shuffle=False, use_gpu=False, ignore_features=ignore_features, categorical_features=categorical_features, fold=4, session_id=123)"
   ]
  },
  {
   "cell_type": "code",
   "execution_count": 57,
   "metadata": {},
   "outputs": [
    {
     "data": {
      "text/html": [],
      "text/plain": [
       "<IPython.core.display.HTML object>"
      ]
     },
     "metadata": {},
     "output_type": "display_data"
    },
    {
     "data": {
      "text/html": [
       "<style type=\"text/css\">\n",
       "#T_e506a_row4_col0, #T_e506a_row4_col1, #T_e506a_row4_col2, #T_e506a_row4_col3, #T_e506a_row4_col4, #T_e506a_row4_col5, #T_e506a_row4_col6 {\n",
       "  background: yellow;\n",
       "}\n",
       "</style>\n",
       "<table id=\"T_e506a\">\n",
       "  <thead>\n",
       "    <tr>\n",
       "      <th class=\"blank level0\" >&nbsp;</th>\n",
       "      <th id=\"T_e506a_level0_col0\" class=\"col_heading level0 col0\" >Accuracy</th>\n",
       "      <th id=\"T_e506a_level0_col1\" class=\"col_heading level0 col1\" >AUC</th>\n",
       "      <th id=\"T_e506a_level0_col2\" class=\"col_heading level0 col2\" >Recall</th>\n",
       "      <th id=\"T_e506a_level0_col3\" class=\"col_heading level0 col3\" >Prec.</th>\n",
       "      <th id=\"T_e506a_level0_col4\" class=\"col_heading level0 col4\" >F1</th>\n",
       "      <th id=\"T_e506a_level0_col5\" class=\"col_heading level0 col5\" >Kappa</th>\n",
       "      <th id=\"T_e506a_level0_col6\" class=\"col_heading level0 col6\" >MCC</th>\n",
       "    </tr>\n",
       "    <tr>\n",
       "      <th class=\"index_name level0\" >Fold</th>\n",
       "      <th class=\"blank col0\" >&nbsp;</th>\n",
       "      <th class=\"blank col1\" >&nbsp;</th>\n",
       "      <th class=\"blank col2\" >&nbsp;</th>\n",
       "      <th class=\"blank col3\" >&nbsp;</th>\n",
       "      <th class=\"blank col4\" >&nbsp;</th>\n",
       "      <th class=\"blank col5\" >&nbsp;</th>\n",
       "      <th class=\"blank col6\" >&nbsp;</th>\n",
       "    </tr>\n",
       "  </thead>\n",
       "  <tbody>\n",
       "    <tr>\n",
       "      <th id=\"T_e506a_level0_row0\" class=\"row_heading level0 row0\" >0</th>\n",
       "      <td id=\"T_e506a_row0_col0\" class=\"data row0 col0\" >0.9966</td>\n",
       "      <td id=\"T_e506a_row0_col1\" class=\"data row0 col1\" >0.9601</td>\n",
       "      <td id=\"T_e506a_row0_col2\" class=\"data row0 col2\" >0.0799</td>\n",
       "      <td id=\"T_e506a_row0_col3\" class=\"data row0 col3\" >0.4987</td>\n",
       "      <td id=\"T_e506a_row0_col4\" class=\"data row0 col4\" >0.1378</td>\n",
       "      <td id=\"T_e506a_row0_col5\" class=\"data row0 col5\" >0.1370</td>\n",
       "      <td id=\"T_e506a_row0_col6\" class=\"data row0 col6\" >0.1987</td>\n",
       "    </tr>\n",
       "    <tr>\n",
       "      <th id=\"T_e506a_level0_row1\" class=\"row_heading level0 row1\" >1</th>\n",
       "      <td id=\"T_e506a_row1_col0\" class=\"data row1 col0\" >0.9957</td>\n",
       "      <td id=\"T_e506a_row1_col1\" class=\"data row1 col1\" >0.9736</td>\n",
       "      <td id=\"T_e506a_row1_col2\" class=\"data row1 col2\" >0.2948</td>\n",
       "      <td id=\"T_e506a_row1_col3\" class=\"data row1 col3\" >0.6273</td>\n",
       "      <td id=\"T_e506a_row1_col4\" class=\"data row1 col4\" >0.4011</td>\n",
       "      <td id=\"T_e506a_row1_col5\" class=\"data row1 col5\" >0.3992</td>\n",
       "      <td id=\"T_e506a_row1_col6\" class=\"data row1 col6\" >0.4282</td>\n",
       "    </tr>\n",
       "    <tr>\n",
       "      <th id=\"T_e506a_level0_row2\" class=\"row_heading level0 row2\" >2</th>\n",
       "      <td id=\"T_e506a_row2_col0\" class=\"data row2 col0\" >0.9966</td>\n",
       "      <td id=\"T_e506a_row2_col1\" class=\"data row2 col1\" >0.9709</td>\n",
       "      <td id=\"T_e506a_row2_col2\" class=\"data row2 col2\" >0.2073</td>\n",
       "      <td id=\"T_e506a_row2_col3\" class=\"data row2 col3\" >0.5188</td>\n",
       "      <td id=\"T_e506a_row2_col4\" class=\"data row2 col4\" >0.2962</td>\n",
       "      <td id=\"T_e506a_row2_col5\" class=\"data row2 col5\" >0.2948</td>\n",
       "      <td id=\"T_e506a_row2_col6\" class=\"data row2 col6\" >0.3265</td>\n",
       "    </tr>\n",
       "    <tr>\n",
       "      <th id=\"T_e506a_level0_row3\" class=\"row_heading level0 row3\" >3</th>\n",
       "      <td id=\"T_e506a_row3_col0\" class=\"data row3 col0\" >0.9986</td>\n",
       "      <td id=\"T_e506a_row3_col1\" class=\"data row3 col1\" >0.9796</td>\n",
       "      <td id=\"T_e506a_row3_col2\" class=\"data row3 col2\" >0.1594</td>\n",
       "      <td id=\"T_e506a_row3_col3\" class=\"data row3 col3\" >0.5222</td>\n",
       "      <td id=\"T_e506a_row3_col4\" class=\"data row3 col4\" >0.2442</td>\n",
       "      <td id=\"T_e506a_row3_col5\" class=\"data row3 col5\" >0.2437</td>\n",
       "      <td id=\"T_e506a_row3_col6\" class=\"data row3 col6\" >0.2880</td>\n",
       "    </tr>\n",
       "    <tr>\n",
       "      <th id=\"T_e506a_level0_row4\" class=\"row_heading level0 row4\" >Mean</th>\n",
       "      <td id=\"T_e506a_row4_col0\" class=\"data row4 col0\" >0.9969</td>\n",
       "      <td id=\"T_e506a_row4_col1\" class=\"data row4 col1\" >0.9711</td>\n",
       "      <td id=\"T_e506a_row4_col2\" class=\"data row4 col2\" >0.1854</td>\n",
       "      <td id=\"T_e506a_row4_col3\" class=\"data row4 col3\" >0.5417</td>\n",
       "      <td id=\"T_e506a_row4_col4\" class=\"data row4 col4\" >0.2698</td>\n",
       "      <td id=\"T_e506a_row4_col5\" class=\"data row4 col5\" >0.2687</td>\n",
       "      <td id=\"T_e506a_row4_col6\" class=\"data row4 col6\" >0.3104</td>\n",
       "    </tr>\n",
       "    <tr>\n",
       "      <th id=\"T_e506a_level0_row5\" class=\"row_heading level0 row5\" >Std</th>\n",
       "      <td id=\"T_e506a_row5_col0\" class=\"data row5 col0\" >0.0011</td>\n",
       "      <td id=\"T_e506a_row5_col1\" class=\"data row5 col1\" >0.0071</td>\n",
       "      <td id=\"T_e506a_row5_col2\" class=\"data row5 col2\" >0.0779</td>\n",
       "      <td id=\"T_e506a_row5_col3\" class=\"data row5 col3\" >0.0502</td>\n",
       "      <td id=\"T_e506a_row5_col4\" class=\"data row5 col4\" >0.0949</td>\n",
       "      <td id=\"T_e506a_row5_col5\" class=\"data row5 col5\" >0.0945</td>\n",
       "      <td id=\"T_e506a_row5_col6\" class=\"data row5 col6\" >0.0823</td>\n",
       "    </tr>\n",
       "  </tbody>\n",
       "</table>\n"
      ],
      "text/plain": [
       "<pandas.io.formats.style.Styler at 0x2b82cfc10>"
      ]
     },
     "metadata": {},
     "output_type": "display_data"
    },
    {
     "data": {
      "text/html": [],
      "text/plain": [
       "<IPython.core.display.HTML object>"
      ]
     },
     "metadata": {},
     "output_type": "display_data"
    }
   ],
   "source": [
    "xgboost = create_model('xgboost')"
   ]
  },
  {
   "cell_type": "code",
   "execution_count": 58,
   "metadata": {},
   "outputs": [
    {
     "data": {
      "text/html": [
       "<style type=\"text/css\">\n",
       "</style>\n",
       "<table id=\"T_b65d6\">\n",
       "  <thead>\n",
       "    <tr>\n",
       "      <th class=\"blank level0\" >&nbsp;</th>\n",
       "      <th id=\"T_b65d6_level0_col0\" class=\"col_heading level0 col0\" >Model</th>\n",
       "      <th id=\"T_b65d6_level0_col1\" class=\"col_heading level0 col1\" >Accuracy</th>\n",
       "      <th id=\"T_b65d6_level0_col2\" class=\"col_heading level0 col2\" >AUC</th>\n",
       "      <th id=\"T_b65d6_level0_col3\" class=\"col_heading level0 col3\" >Recall</th>\n",
       "      <th id=\"T_b65d6_level0_col4\" class=\"col_heading level0 col4\" >Prec.</th>\n",
       "      <th id=\"T_b65d6_level0_col5\" class=\"col_heading level0 col5\" >F1</th>\n",
       "      <th id=\"T_b65d6_level0_col6\" class=\"col_heading level0 col6\" >Kappa</th>\n",
       "      <th id=\"T_b65d6_level0_col7\" class=\"col_heading level0 col7\" >MCC</th>\n",
       "    </tr>\n",
       "  </thead>\n",
       "  <tbody>\n",
       "    <tr>\n",
       "      <th id=\"T_b65d6_level0_row0\" class=\"row_heading level0 row0\" >0</th>\n",
       "      <td id=\"T_b65d6_row0_col0\" class=\"data row0 col0\" >Extreme Gradient Boosting</td>\n",
       "      <td id=\"T_b65d6_row0_col1\" class=\"data row0 col1\" >0.9965</td>\n",
       "      <td id=\"T_b65d6_row0_col2\" class=\"data row0 col2\" >0.9714</td>\n",
       "      <td id=\"T_b65d6_row0_col3\" class=\"data row0 col3\" >0.1968</td>\n",
       "      <td id=\"T_b65d6_row0_col4\" class=\"data row0 col4\" >0.6508</td>\n",
       "      <td id=\"T_b65d6_row0_col5\" class=\"data row0 col5\" >0.3022</td>\n",
       "      <td id=\"T_b65d6_row0_col6\" class=\"data row0 col6\" >0.3010</td>\n",
       "      <td id=\"T_b65d6_row0_col7\" class=\"data row0 col7\" >0.3567</td>\n",
       "    </tr>\n",
       "  </tbody>\n",
       "</table>\n"
      ],
      "text/plain": [
       "<pandas.io.formats.style.Styler at 0x36513ce20>"
      ]
     },
     "metadata": {},
     "output_type": "display_data"
    }
   ],
   "source": [
    "predict = predict_model(xgboost, data=df_test).prediction_label"
   ]
  },
  {
   "cell_type": "code",
   "execution_count": 59,
   "metadata": {},
   "outputs": [
    {
     "name": "stdout",
     "output_type": "stream",
     "text": [
      "TN  FP\n",
      "FN  TP\n",
      "[[1442158     587]\n",
      " [   4465    1094]]\n",
      "Accuracy: 0.9965117820568058\n",
      "Recall: 0.19679798524914552\n",
      "Precision: 0.6508030933967877\n",
      "F1 score : 0.30220994475138124\n"
     ]
    }
   ],
   "source": [
    "answer = df_test['is_congestion_tomorrow']\n",
    "\n",
    "accuracy = accuracy_score(answer, predict)\n",
    "recall = recall_score(answer, predict)\n",
    "precision = precision_score(answer, predict)\n",
    "f1 = f1_score(answer, predict)\n",
    "\n",
    "print('TN  FP\\nFN  TP')\n",
    "print(confusion_matrix(answer, predict))\n",
    "print(f'Accuracy: {accuracy}')\n",
    "print(f'Recall: {recall}')\n",
    "print(f'Precision: {precision}')\n",
    "print(f'F1 score : {f1}')"
   ]
  },
  {
   "cell_type": "code",
   "execution_count": 60,
   "metadata": {},
   "outputs": [
    {
     "data": {
      "application/vnd.jupyter.widget-view+json": {
       "model_id": "e70e2cc4851a456ba084cafd8f702964",
       "version_major": 2,
       "version_minor": 0
      },
      "text/plain": [
       "interactive(children=(ToggleButtons(description='Plot Type:', icons=('',), options=(('Pipeline Plot', 'pipelin…"
      ]
     },
     "metadata": {},
     "output_type": "display_data"
    }
   ],
   "source": [
    "evaluate_model(xgboost)"
   ]
  },
  {
   "cell_type": "code",
   "execution_count": null,
   "metadata": {},
   "outputs": [],
   "source": []
  }
 ],
 "metadata": {
  "kernelspec": {
   "display_name": "nexco",
   "language": "python",
   "name": "python3"
  },
  "language_info": {
   "codemirror_mode": {
    "name": "ipython",
    "version": 3
   },
   "file_extension": ".py",
   "mimetype": "text/x-python",
   "name": "python",
   "nbconvert_exporter": "python",
   "pygments_lexer": "ipython3",
   "version": "3.8.18"
  }
 },
 "nbformat": 4,
 "nbformat_minor": 2
}
